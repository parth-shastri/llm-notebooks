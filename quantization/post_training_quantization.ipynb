{
 "cells": [
  {
   "cell_type": "markdown",
   "metadata": {},
   "source": [
    "### Post Training Quantization \n",
    "- calibration for the scale and zeropoint parameters\n",
    "- tracks the statistics of a layer using observers"
   ]
  },
  {
   "cell_type": "code",
   "execution_count": 1,
   "metadata": {},
   "outputs": [
    {
     "name": "stderr",
     "output_type": "stream",
     "text": [
      "/Users/parthshastri/miniconda3/envs/master/lib/python3.10/site-packages/tqdm/auto.py:21: TqdmWarning: IProgress not found. Please update jupyter and ipywidgets. See https://ipywidgets.readthedocs.io/en/stable/user_install.html\n",
      "  from .autonotebook import tqdm as notebook_tqdm\n"
     ]
    }
   ],
   "source": [
    "# add all the imports\n",
    "import os\n",
    "import torch\n",
    "import torchvision.datasets as datasets\n",
    "import torchvision.transforms as transforms\n",
    "import torch.nn as nn\n",
    "\n",
    "from tqdm import tqdm\n",
    "\n",
    "\n",
    "_ = torch.manual_seed(1337)"
   ]
  },
  {
   "cell_type": "code",
   "execution_count": 2,
   "metadata": {},
   "outputs": [],
   "source": [
    "# define the dataset\n",
    "\n",
    "transforms = transforms.Compose([transforms.ToTensor(), transforms.Normalize((0.1307,), (0.3081))])\n",
    "mnist_train = datasets.MNIST(root=\"./data/\", train=True, download=True, transform=transforms)\n",
    "\n",
    "train_loader = torch.utils.data.DataLoader(mnist_train, batch_size=10, shuffle=True)\n",
    "\n",
    "mnist_test = datasets.MNIST(root=\"./data/\", train=False, download=True, transform=transforms)\n",
    "\n",
    "test_loader = torch.utils.data.DataLoader(mnist_test, batch_size=10, shuffle=True)\n",
    "\n",
    "# no gpu on mac\n",
    "device='cuda' if torch.cuda.is_available() else 'cpu'\n"
   ]
  },
  {
   "cell_type": "code",
   "execution_count": 3,
   "metadata": {},
   "outputs": [],
   "source": [
    "# Define a simple neural network\n",
    "class SimpleNN(nn.Module):\n",
    "    def __init__(self, hidden_size_1=128, hidden_size_2=128, num_classes=10):\n",
    "        super(SimpleNN, self).__init__()\n",
    "        self.linear1 = nn.Linear(28 * 28, hidden_size_1)\n",
    "        self.linear2 = nn.Linear(hidden_size_1, hidden_size_2)\n",
    "        self.linear3 = nn.Linear(hidden_size_2, num_classes)\n",
    "        self.relu = nn.ReLU()\n",
    "    \n",
    "    def forward(self, img):\n",
    "        x = img.view(-1, 28 * 28)\n",
    "        x = self.relu(self.linear1(x))\n",
    "        x = self.relu(self.linear2(x))\n",
    "        x = self.linear3(x)\n",
    "\n",
    "        return x\n"
   ]
  },
  {
   "cell_type": "code",
   "execution_count": 4,
   "metadata": {},
   "outputs": [],
   "source": [
    "model = SimpleNN().to(device)"
   ]
  },
  {
   "cell_type": "markdown",
   "metadata": {},
   "source": [
    "#### Training the model"
   ]
  },
  {
   "cell_type": "code",
   "execution_count": null,
   "metadata": {},
   "outputs": [],
   "source": [
    "def train(train_loader, model, epochs=10):\n",
    "    loss_fn = nn.CrossEntropyLoss()\n",
    "    optimizer = torch.optim.Adam(model.parameters(), lr=3e-4)\n",
    "    \n",
    "    global_step = 0\n",
    "    for epoch in range(epochs):\n",
    "        model.train()\n",
    "        step = 0\n",
    "\n",
    "        data_iterator = tqdm(train_loader, desc=f'Epoch {epoch + 1}')\n",
    "        loss_sum = 0\n",
    "        for batch in data_iterator:\n",
    "            step += 1\n",
    "            global_step += 1\n",
    "\n",
    "            img, label = batch\n",
    "            img, label = img.to(device), label.to(device)\n",
    "\n",
    "            optimizer.zero_grad()\n",
    "            output = model(img)\n",
    "            loss = loss_fn(output, label)\n",
    "            loss_sum += loss.item()\n",
    "            avg_loss = loss_sum / step\n",
    "            data_iterator.set_postfix(loss=avg_loss)\n",
    "\n",
    "            loss.backward()\n",
    "            optimizer.step()\n",
    "\n",
    "\n",
    "def print_model_size(model):\n",
    "    torch.save(model.state_dict(), 'temp_model.pt')\n",
    "    print(f'Size (KB): {os.path.getsize(\"temp_model.pt\",) / 1e3}')\n",
    "    os.remove(\"temp_model.pt\")\n",
    "\n",
    "\n",
    "def print_trainable_parameters(model):\n",
    "    trainable_parameters = [torch.numel(p) for p in model.parameters() if p.requires_grad]\n",
    "    print(f'Total trainable parameters (K): {sum(trainable_parameters) / 1e3}')\n",
    "\n",
    "\n",
    "MODEL_FILENAME = './models/simplenn_no_quant.pt'\n",
    "if os.path.exists(MODEL_FILENAME):\n",
    "    model.load_state_dict(torch.load(MODEL_FILENAME))\n",
    "    print(\"Loaded Model from disk\")\n",
    "else:\n",
    "    if not os.path.exists(MODEL_FILENAME):\n",
    "        os.makedirs(MODEL_FILENAME)\n",
    "    # print trainable parameters\n",
    "    print_trainable_parameters(model)\n",
    "    train(train_loader, model, epochs=5)\n",
    "    torch.save(model.state_dict(), MODEL_FILENAME)"
   ]
  },
  {
   "cell_type": "code",
   "execution_count": 10,
   "metadata": {},
   "outputs": [],
   "source": [
    "os.makedirs('models/')"
   ]
  },
  {
   "cell_type": "code",
   "execution_count": null,
   "metadata": {},
   "outputs": [],
   "source": []
  },
  {
   "cell_type": "markdown",
   "metadata": {},
   "source": [
    "#### Test loop"
   ]
  },
  {
   "cell_type": "code",
   "execution_count": 14,
   "metadata": {},
   "outputs": [],
   "source": [
    "def test(model):\n",
    "    correct = 0\n",
    "    total = 0\n",
    "\n",
    "    iterations = 0\n",
    "    model.eval()\n",
    "\n",
    "    with torch.no_grad():\n",
    "        for data in tqdm(test_loader, desc=\"Testing\"):\n",
    "            img, label = data\n",
    "            img, label = img.to(device), label.to(device)\n",
    "            output = model(x)\n",
    "            for idx, o in enumerate(output):\n",
    "                if torch.argmax(o) == label[idx]:\n",
    "                    correct += 1\n",
    "                total += 1\n",
    "    \n",
    "    print(f'Accuracy: {(correct / total)}')\n"
   ]
  },
  {
   "cell_type": "code",
   "execution_count": null,
   "metadata": {},
   "outputs": [],
   "source": []
  }
 ],
 "metadata": {
  "kernelspec": {
   "display_name": "Python 3",
   "language": "python",
   "name": "python3"
  },
  "language_info": {
   "codemirror_mode": {
    "name": "ipython",
    "version": 3
   },
   "file_extension": ".py",
   "mimetype": "text/x-python",
   "name": "python",
   "nbconvert_exporter": "python",
   "pygments_lexer": "ipython3",
   "version": "3.10.14"
  }
 },
 "nbformat": 4,
 "nbformat_minor": 2
}
