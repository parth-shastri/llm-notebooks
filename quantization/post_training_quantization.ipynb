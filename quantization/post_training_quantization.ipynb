{
 "cells": [
  {
   "cell_type": "markdown",
   "metadata": {},
   "source": [
    "### Post Training Quantization \n",
    "- calibration for the scale and zeropoint parameters\n",
    "- tracks the statistics of a layer using observers"
   ]
  },
  {
   "cell_type": "code",
   "execution_count": 1,
   "metadata": {},
   "outputs": [],
   "source": [
    "# add all the imports\n",
    "import os\n",
    "import torch\n",
    "import torchvision.datasets as datasets\n",
    "import torchvision.transforms as transforms\n",
    "import torch.nn as nn\n",
    "\n",
    "from tqdm import tqdm\n",
    "\n",
    "\n",
    "_ = torch.manual_seed(1337)"
   ]
  },
  {
   "cell_type": "code",
   "execution_count": 2,
   "metadata": {},
   "outputs": [],
   "source": [
    "# define the dataset\n",
    "\n",
    "transform = transforms.Compose([transforms.ToTensor(), transforms.Normalize((0.1307,), (0.3081))])\n",
    "mnist_train = datasets.MNIST(root=\"./data/\", train=True, download=True, transform=transform)\n",
    "\n",
    "train_loader = torch.utils.data.DataLoader(mnist_train, batch_size=10, shuffle=True)\n",
    "\n",
    "mnist_test = datasets.MNIST(root=\"./data/\", train=False, download=True, transform=transform)\n",
    "\n",
    "test_loader = torch.utils.data.DataLoader(mnist_test, batch_size=10, shuffle=True)\n",
    "\n",
    "# no gpu on mac\n",
    "device='cuda' if torch.cuda.is_available() else 'cpu'\n"
   ]
  },
  {
   "cell_type": "code",
   "execution_count": 3,
   "metadata": {},
   "outputs": [],
   "source": [
    "# Define a simple neural network\n",
    "class SimpleNN(nn.Module):\n",
    "    def __init__(self, hidden_size_1=128, hidden_size_2=128, num_classes=10):\n",
    "        super(SimpleNN, self).__init__()\n",
    "        self.linear1 = nn.Linear(28 * 28, hidden_size_1)\n",
    "        self.linear2 = nn.Linear(hidden_size_1, hidden_size_2)\n",
    "        self.linear3 = nn.Linear(hidden_size_2, num_classes)\n",
    "        self.relu = nn.ReLU()\n",
    "    \n",
    "    def forward(self, img):\n",
    "        x = img.view(-1, 28 * 28)\n",
    "        x = self.relu(self.linear1(x))\n",
    "        x = self.relu(self.linear2(x))\n",
    "        x = self.linear3(x)\n",
    "\n",
    "        return x\n"
   ]
  },
  {
   "cell_type": "code",
   "execution_count": 4,
   "metadata": {},
   "outputs": [],
   "source": [
    "model = SimpleNN().to(device)"
   ]
  },
  {
   "cell_type": "markdown",
   "metadata": {},
   "source": [
    "#### Training the model"
   ]
  },
  {
   "cell_type": "code",
   "execution_count": 5,
   "metadata": {},
   "outputs": [
    {
     "name": "stdout",
     "output_type": "stream",
     "text": [
      "Loaded Model from disk\n"
     ]
    }
   ],
   "source": [
    "def train(train_loader, model, epochs=10):\n",
    "    loss_fn = nn.CrossEntropyLoss()\n",
    "    optimizer = torch.optim.Adam(model.parameters(), lr=3e-4)\n",
    "    \n",
    "    global_step = 0\n",
    "    for epoch in range(epochs):\n",
    "        model.train()\n",
    "        step = 0\n",
    "\n",
    "        data_iterator = tqdm(train_loader, desc=f'Epoch {epoch + 1}')\n",
    "        loss_sum = 0\n",
    "        for batch in data_iterator:\n",
    "            step += 1\n",
    "            global_step += 1\n",
    "\n",
    "            img, label = batch\n",
    "            img, label = img.to(device), label.to(device)\n",
    "\n",
    "            optimizer.zero_grad()\n",
    "            output = model(img)\n",
    "            loss = loss_fn(output, label)\n",
    "            loss_sum += loss.item()\n",
    "            avg_loss = loss_sum / step\n",
    "            data_iterator.set_postfix(loss=avg_loss)\n",
    "\n",
    "            loss.backward()\n",
    "            optimizer.step()\n",
    "\n",
    "\n",
    "def print_model_size(model):\n",
    "    torch.save(model.state_dict(), 'temp_model.pt')\n",
    "    print(f'Size (KB): {os.path.getsize(\"temp_model.pt\",) / 1e3}')\n",
    "    os.remove(\"temp_model.pt\")\n",
    "\n",
    "\n",
    "def print_trainable_parameters(model):\n",
    "    trainable_parameters = [torch.numel(p) for p in model.parameters() if p.requires_grad]\n",
    "    print(f'Total trainable parameters (K): {sum(trainable_parameters) / 1e3}')\n",
    "\n",
    "MODEL_PATH = './models/'\n",
    "MODEL_FILENAME = f'.{MODEL_PATH}/simplenn_no_quant.pt'\n",
    "if os.path.exists(MODEL_FILENAME):\n",
    "    model.load_state_dict(torch.load(MODEL_FILENAME))\n",
    "    print(\"Loaded Model from disk\")\n",
    "else:\n",
    "    if not os.path.exists(MODEL_PATH):\n",
    "        os.makedirs(MODEL_PATH)\n",
    "    # print trainable parameters\n",
    "    print_trainable_parameters(model)\n",
    "    train(train_loader, model, epochs=5)\n",
    "    torch.save(model.state_dict(), MODEL_FILENAME)"
   ]
  },
  {
   "cell_type": "markdown",
   "metadata": {},
   "source": [
    "#### Test loop"
   ]
  },
  {
   "cell_type": "code",
   "execution_count": 6,
   "metadata": {},
   "outputs": [],
   "source": [
    "def test(model: nn.Module, device):\n",
    "    correct = 0\n",
    "    total = 0\n",
    "\n",
    "    iterations = 0\n",
    "    model.to(device)\n",
    "    model.eval()\n",
    "\n",
    "    with torch.no_grad():\n",
    "        for data in tqdm(test_loader, desc=\"Testing\"):\n",
    "            img, label = data\n",
    "            img, label = img.to(device), label.to(device)\n",
    "            output = model(img)\n",
    "            for idx, o in enumerate(output):\n",
    "                if torch.argmax(o) == label[idx]:\n",
    "                    correct += 1\n",
    "                total += 1\n",
    "    \n",
    "    print(f'Accuracy: {(correct / total)}')\n"
   ]
  },
  {
   "cell_type": "code",
   "execution_count": 7,
   "metadata": {},
   "outputs": [
    {
     "name": "stderr",
     "output_type": "stream",
     "text": [
      "Testing: 100%|██████████| 1000/1000 [00:00<00:00, 1558.75it/s]"
     ]
    },
    {
     "name": "stdout",
     "output_type": "stream",
     "text": [
      "Accuracy: 0.9781\n"
     ]
    },
    {
     "name": "stderr",
     "output_type": "stream",
     "text": [
      "\n"
     ]
    }
   ],
   "source": [
    "test(model, device=device)"
   ]
  },
  {
   "cell_type": "code",
   "execution_count": 8,
   "metadata": {},
   "outputs": [
    {
     "name": "stdout",
     "output_type": "stream",
     "text": [
      "Size of the model before Quantization: \n",
      "Size (KB): 475.814\n"
     ]
    }
   ],
   "source": [
    "# Check the weight size of the model \n",
    "print(f'Size of the model before Quantization: ')\n",
    "print_model_size(model)"
   ]
  },
  {
   "cell_type": "markdown",
   "metadata": {},
   "source": [
    "### Adding the quantization observers in the model\n",
    " - Calibrating the model activations for quantization\n",
    " - Use test data for the calibration"
   ]
  },
  {
   "cell_type": "code",
   "execution_count": 9,
   "metadata": {},
   "outputs": [],
   "source": [
    "class SimpleQuantNN(nn.Module):\n",
    "    def __init__(self, hidden_size_1=128, hidden_size_2=128, num_classes=10):\n",
    "        super(SimpleQuantNN, self).__init__()\n",
    "        # adding quant \n",
    "        self.quant = torch.ao.quantization.QuantStub()\n",
    "        self.linear1 = nn.Linear(28 * 28, hidden_size_1)\n",
    "        self.linear2 = nn.Linear(hidden_size_1, hidden_size_2)\n",
    "        self.linear3 = nn.Linear(hidden_size_2, num_classes)\n",
    "        self.relu = nn.ReLU()\n",
    "        # adding dequant\n",
    "        self.dequant = torch.ao.quantization.DeQuantStub()\n",
    "\n",
    "    def forward(self, img):\n",
    "        x = img.view(-1, 28 * 28)\n",
    "        x = self.quant(x)\n",
    "        x = self.relu(self.linear1(x))\n",
    "        x = self.relu(self.linear2(x))\n",
    "        x = self.linear3(x)\n",
    "        x = self.dequant(x)\n",
    "        \n",
    "        return x"
   ]
  },
  {
   "cell_type": "code",
   "execution_count": 12,
   "metadata": {},
   "outputs": [
    {
     "data": {
      "text/plain": [
       "SimpleQuantNN(\n",
       "  (quant): QuantStub(\n",
       "    (activation_post_process): MinMaxObserver(min_val=inf, max_val=-inf)\n",
       "  )\n",
       "  (linear1): Linear(\n",
       "    in_features=784, out_features=128, bias=True\n",
       "    (activation_post_process): MinMaxObserver(min_val=inf, max_val=-inf)\n",
       "  )\n",
       "  (linear2): Linear(\n",
       "    in_features=128, out_features=128, bias=True\n",
       "    (activation_post_process): MinMaxObserver(min_val=inf, max_val=-inf)\n",
       "  )\n",
       "  (linear3): Linear(\n",
       "    in_features=128, out_features=10, bias=True\n",
       "    (activation_post_process): MinMaxObserver(min_val=inf, max_val=-inf)\n",
       "  )\n",
       "  (relu): ReLU()\n",
       "  (dequant): DeQuantStub()\n",
       ")"
      ]
     },
     "execution_count": 12,
     "metadata": {},
     "output_type": "execute_result"
    }
   ],
   "source": [
    "# defining the model\n",
    "quant_model = SimpleQuantNN().to(device)\n",
    "# We have to load the weights from the trained model\n",
    "quant_model.load_state_dict(model.state_dict())\n",
    "quant_model.eval()  # ?\n",
    "\n",
    "quant_model.qconfig = torch.ao.quantization.default_qconfig\n",
    "quant_model = torch.ao.quantization.prepare(quant_model)\n",
    "\n",
    "quant_model\n"
   ]
  },
  {
   "cell_type": "code",
   "execution_count": 13,
   "metadata": {},
   "outputs": [
    {
     "name": "stderr",
     "output_type": "stream",
     "text": [
      "Testing: 100%|██████████| 1000/1000 [00:01<00:00, 683.80it/s]"
     ]
    },
    {
     "name": "stdout",
     "output_type": "stream",
     "text": [
      "Accuracy: 0.9781\n"
     ]
    },
    {
     "name": "stderr",
     "output_type": "stream",
     "text": [
      "\n"
     ]
    }
   ],
   "source": [
    "#######################\n",
    "# CALIBRATE the MODEL #\n",
    "#######################\n",
    "\n",
    "test(quant_model, device='cpu')\n"
   ]
  },
  {
   "cell_type": "code",
   "execution_count": 14,
   "metadata": {},
   "outputs": [
    {
     "name": "stdout",
     "output_type": "stream",
     "text": [
      "Check the stats: \n"
     ]
    },
    {
     "data": {
      "text/plain": [
       "SimpleQuantNN(\n",
       "  (quant): QuantStub(\n",
       "    (activation_post_process): MinMaxObserver(min_val=-0.4242129623889923, max_val=2.821486711502075)\n",
       "  )\n",
       "  (linear1): Linear(\n",
       "    in_features=784, out_features=128, bias=True\n",
       "    (activation_post_process): MinMaxObserver(min_val=-40.58298873901367, max_val=30.44935417175293)\n",
       "  )\n",
       "  (linear2): Linear(\n",
       "    in_features=128, out_features=128, bias=True\n",
       "    (activation_post_process): MinMaxObserver(min_val=-33.20005798339844, max_val=28.273630142211914)\n",
       "  )\n",
       "  (linear3): Linear(\n",
       "    in_features=128, out_features=10, bias=True\n",
       "    (activation_post_process): MinMaxObserver(min_val=-60.843292236328125, max_val=40.28129959106445)\n",
       "  )\n",
       "  (relu): ReLU()\n",
       "  (dequant): DeQuantStub()\n",
       ")"
      ]
     },
     "execution_count": 14,
     "metadata": {},
     "output_type": "execute_result"
    }
   ],
   "source": [
    "print(f'Check the stats: ')\n",
    "quant_model\n",
    "\n",
    "# NOTE: The observer stats of the model are filled with the MinMax stats instead of the -inf and the inf values before."
   ]
  },
  {
   "cell_type": "markdown",
   "metadata": {},
   "source": [
    "#### Quantize the calibrated model\n",
    " "
   ]
  },
  {
   "cell_type": "code",
   "execution_count": 15,
   "metadata": {},
   "outputs": [
    {
     "name": "stdout",
     "output_type": "stream",
     "text": [
      "Check the stats: \n"
     ]
    },
    {
     "data": {
      "text/plain": [
       "SimpleQuantNN(\n",
       "  (quant): Quantize(scale=tensor([0.0256]), zero_point=tensor([17]), dtype=torch.quint8)\n",
       "  (linear1): QuantizedLinear(in_features=784, out_features=128, scale=0.5593097805976868, zero_point=73, qscheme=torch.per_tensor_affine)\n",
       "  (linear2): QuantizedLinear(in_features=128, out_features=128, scale=0.48404476046562195, zero_point=69, qscheme=torch.per_tensor_affine)\n",
       "  (linear3): QuantizedLinear(in_features=128, out_features=10, scale=0.7962566018104553, zero_point=76, qscheme=torch.per_tensor_affine)\n",
       "  (relu): ReLU()\n",
       "  (dequant): DeQuantize()\n",
       ")"
      ]
     },
     "execution_count": 15,
     "metadata": {},
     "output_type": "execute_result"
    }
   ],
   "source": [
    "quant_model = torch.ao.quantization.convert(quant_model)\n",
    "\n",
    "print(f\"Check the stats: \")\n",
    "quant_model\n",
    "\n",
    "# NOTE: Normal layers are converted into QuantizedLinear layers and they are quantized.\n",
    "        # - per_tensor_affine quantization is used"
   ]
  },
  {
   "cell_type": "code",
   "execution_count": 16,
   "metadata": {},
   "outputs": [
    {
     "name": "stdout",
     "output_type": "stream",
     "text": [
      "Size of the quantized model:\n",
      "Size (KB): 124.322\n"
     ]
    }
   ],
   "source": [
    "print(f'Size of the quantized model:') \n",
    "print_model_size(quant_model)"
   ]
  },
  {
   "cell_type": "code",
   "execution_count": 17,
   "metadata": {},
   "outputs": [
    {
     "name": "stderr",
     "output_type": "stream",
     "text": [
      "Testing: 100%|██████████| 1000/1000 [00:01<00:00, 705.04it/s]"
     ]
    },
    {
     "name": "stdout",
     "output_type": "stream",
     "text": [
      "Accuracy: 0.9779\n"
     ]
    },
    {
     "name": "stderr",
     "output_type": "stream",
     "text": [
      "\n"
     ]
    }
   ],
   "source": [
    "## Look at the model performance # run on cpu\n",
    "print(f'Accuracy after quantization: ')\n",
    "test(quant_model, device='cpu')\n",
    "\n",
    "#NOTE: There is a very minimal drop in the accuracy of the model, \n",
    "# - Accuracy: 0.9779"
   ]
  }
 ],
 "metadata": {
  "kernelspec": {
   "display_name": "Python 3",
   "language": "python",
   "name": "python3"
  },
  "language_info": {
   "codemirror_mode": {
    "name": "ipython",
    "version": 3
   },
   "file_extension": ".py",
   "mimetype": "text/x-python",
   "name": "python",
   "nbconvert_exporter": "python",
   "pygments_lexer": "ipython3",
   "version": "3.10.14"
  }
 },
 "nbformat": 4,
 "nbformat_minor": 2
}
