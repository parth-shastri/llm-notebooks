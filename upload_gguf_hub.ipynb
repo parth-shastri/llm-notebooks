{
 "cells": [
  {
   "cell_type": "markdown",
   "metadata": {},
   "source": [
    "## Create and Upload model files on the HuggingFace hub\n"
   ]
  },
  {
   "cell_type": "code",
   "execution_count": 1,
   "metadata": {},
   "outputs": [],
   "source": [
    "# ! pip install huggingface_hub"
   ]
  },
  {
   "cell_type": "code",
   "execution_count": 2,
   "metadata": {},
   "outputs": [
    {
     "data": {
      "application/vnd.jupyter.widget-view+json": {
       "model_id": "9372d5d7e9c744f2a6b05931d25b7bfe",
       "version_major": 2,
       "version_minor": 0
      },
      "text/plain": [
       "Neural-phi2-v1.Q4_0.gguf:   0%|          | 0.00/1.60G [00:00<?, ?B/s]"
      ]
     },
     "metadata": {},
     "output_type": "display_data"
    },
    {
     "data": {
      "text/plain": [
       "CommitInfo(commit_url='https://huggingface.co/charioteer/Neural-phi2-GGUF/commit/0090de921f22de8c42b3374e61cc32b84e9984e4', commit_message='Upload Neural-phi2-v1.Q4_0.gguf with huggingface_hub', commit_description='', oid='0090de921f22de8c42b3374e61cc32b84e9984e4', pr_url=None, pr_revision=None, pr_num=None)"
      ]
     },
     "execution_count": 2,
     "metadata": {},
     "output_type": "execute_result"
    }
   ],
   "source": [
    "from huggingface_hub import HfApi\n",
    "\n",
    "api = HfApi()\n",
    "\n",
    "model_id = \"charioteer/Neural-phi2-GGUF\"  # Specify your repo-name\n",
    "\n",
    "api.create_repo(\n",
    "    model_id, exist_ok=True, repo_type=\"model\"\n",
    ")  # specify other details and create-repo\n",
    "api.upload_file(\n",
    "    path_or_fileobj=\"models/Neural-phi2-v1.Q4_0.gguf\",\n",
    "    path_in_repo=\"Neural-phi2-v1.Q4_0.gguf\",\n",
    "    repo_id=model_id,\n",
    ")"
   ]
  }
 ],
 "metadata": {
  "kernelspec": {
   "display_name": "my_master",
   "language": "python",
   "name": "python3"
  },
  "language_info": {
   "codemirror_mode": {
    "name": "ipython",
    "version": 3
   },
   "file_extension": ".py",
   "mimetype": "text/x-python",
   "name": "python",
   "nbconvert_exporter": "python",
   "pygments_lexer": "ipython3",
   "version": "3.9.18"
  }
 },
 "nbformat": 4,
 "nbformat_minor": 2
}
