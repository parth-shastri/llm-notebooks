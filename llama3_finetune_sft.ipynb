{
 "cells": [
  {
   "cell_type": "code",
   "execution_count": 1,
   "metadata": {},
   "outputs": [],
   "source": [
    "# ! pip install transformers datasets bitsandbytes "
   ]
  },
  {
   "cell_type": "markdown",
   "metadata": {},
   "source": [
    "### Llama 3 \n",
    " - Trained on 15T tokens\n",
    " - Standard decoder only architecture, no MoE"
   ]
  },
  {
   "cell_type": "code",
   "execution_count": 15,
   "metadata": {},
   "outputs": [
    {
     "data": {
      "text/plain": [
       "<torch._C.Generator at 0x7c04f3586a90>"
      ]
     },
     "execution_count": 15,
     "metadata": {},
     "output_type": "execute_result"
    }
   ],
   "source": [
    "import torch\n",
    "import json\n",
    "from transformers import AutoModelForCausalLM, AutoTokenizer, TrainingArguments, BitsAndBytesConfig\n",
    "from trl import SFTTrainer\n",
    "from peft import LoraConfig, AutoPeftModelForCausalLM\n",
    "\n",
    "from huggingface_hub import notebook_login, login\n",
    "import wandb\n",
    "\n",
    "\n",
    "_ = torch.manual_seed(0)"
   ]
  },
  {
   "cell_type": "markdown",
   "metadata": {},
   "source": [
    "#### Load the model"
   ]
  },
  {
   "cell_type": "code",
   "execution_count": 3,
   "metadata": {},
   "outputs": [],
   "source": [
    "with open('secrets/secrets.json', 'r') as f:\n",
    "    secrets = json.load(f)\n",
    "\n",
    "HF_TOKEN = secrets['HF_TOKEN']\n",
    "WANDB_TOKEN = secrets['WANDB_TOKEN']\n",
    "\n",
    "\n",
    "# login and init both hugging face and wandb\n",
    "login(token=HF_TOKEN, add_to_git_credential=True, write_permission=True)\n",
    "\n",
    "wandb.login(key=WANDB_TOKEN)"
   ]
  },
  {
   "cell_type": "code",
   "execution_count": 5,
   "metadata": {},
   "outputs": [
    {
     "data": {
      "application/vnd.jupyter.widget-view+json": {
       "model_id": "ff99ded399b64db387e0898308af4d99",
       "version_major": 2,
       "version_minor": 0
      },
      "text/plain": [
       "Loading checkpoint shards:   0%|          | 0/4 [00:00<?, ?it/s]"
      ]
     },
     "metadata": {},
     "output_type": "display_data"
    }
   ],
   "source": [
    "config = BitsAndBytesConfig(load_in_4bit=True, bnb_4bit_compute_dtype=torch.bfloat16, bnb_4bit_quant_type='nf4', )\n",
    "model = AutoModelForCausalLM.from_pretrained('meta-llama/Meta-Llama-3-8B', quantization_config=config, trust_remote_code=True, low_cpu_mem_usage=True, attn_implementation='flash_attention_2')"
   ]
  },
  {
   "cell_type": "code",
   "execution_count": 6,
   "metadata": {},
   "outputs": [
    {
     "data": {
      "application/vnd.jupyter.widget-view+json": {
       "model_id": "2ce05965ae464958b170939cfca11882",
       "version_major": 2,
       "version_minor": 0
      },
      "text/plain": [
       "tokenizer_config.json:   0%|          | 0.00/50.6k [00:00<?, ?B/s]"
      ]
     },
     "metadata": {},
     "output_type": "display_data"
    },
    {
     "data": {
      "application/vnd.jupyter.widget-view+json": {
       "model_id": "684258b7c2514ea58418ab885e1322a5",
       "version_major": 2,
       "version_minor": 0
      },
      "text/plain": [
       "tokenizer.json:   0%|          | 0.00/9.09M [00:00<?, ?B/s]"
      ]
     },
     "metadata": {},
     "output_type": "display_data"
    },
    {
     "data": {
      "application/vnd.jupyter.widget-view+json": {
       "model_id": "71ae7ac37221486682521cf090d6755e",
       "version_major": 2,
       "version_minor": 0
      },
      "text/plain": [
       "special_tokens_map.json:   0%|          | 0.00/73.0 [00:00<?, ?B/s]"
      ]
     },
     "metadata": {},
     "output_type": "display_data"
    },
    {
     "name": "stderr",
     "output_type": "stream",
     "text": [
      "Special tokens have been added in the vocabulary, make sure the associated word embeddings are fine-tuned or trained.\n"
     ]
    }
   ],
   "source": [
    "tokenizer = AutoTokenizer.from_pretrained('meta-llama/Meta-Llama-3-8B')"
   ]
  },
  {
   "cell_type": "code",
   "execution_count": 7,
   "metadata": {},
   "outputs": [
    {
     "data": {
      "text/plain": [
       "('tokenizers/meta-llama/Meta-Llama-3-8B/tokenizer_config.json',\n",
       " 'tokenizers/meta-llama/Meta-Llama-3-8B/special_tokens_map.json',\n",
       " 'tokenizers/meta-llama/Meta-Llama-3-8B/tokenizer.json')"
      ]
     },
     "execution_count": 7,
     "metadata": {},
     "output_type": "execute_result"
    }
   ],
   "source": [
    "tokenizer.save_pretrained('tokenizers/meta-llama/Meta-Llama-3-8B')"
   ]
  },
  {
   "cell_type": "markdown",
   "metadata": {},
   "source": [
    "### Inference on the model"
   ]
  },
  {
   "cell_type": "code",
   "execution_count": 8,
   "metadata": {},
   "outputs": [
    {
     "name": "stderr",
     "output_type": "stream",
     "text": [
      "\n",
      "No chat template is defined for this tokenizer - using a default chat template that implements the ChatML format (without BOS/EOS tokens!). If the default is not appropriate for your model, please set `tokenizer.chat_template` to an appropriate template. See https://huggingface.co/docs/transformers/main/chat_templating for more information.\n",
      "\n"
     ]
    },
    {
     "data": {
      "text/plain": [
       "'<|im_start|>system\\nYou are a helpful chat assistant.<|im_end|>\\n<|im_start|>user\\nWhat are Large Language Models ?<|im_end|>\\n<|im_start|>assistant\\n'"
      ]
     },
     "execution_count": 8,
     "metadata": {},
     "output_type": "execute_result"
    }
   ],
   "source": [
    "# look at the chat template\n",
    "message = [\n",
    "    {\"role\": \"system\", \"content\": \"You are a helpful chat assistant.\"},\n",
    "    {\"role\": \"user\", \"content\": \"What are Large Language Models ?\"},\n",
    "]\n",
    "tokenizer.apply_chat_template(\n",
    "    message,\n",
    "    tokenize=False,\n",
    "    add_generation_prompt=True,\n",
    ") "
   ]
  },
  {
   "cell_type": "code",
   "execution_count": 13,
   "metadata": {},
   "outputs": [
    {
     "name": "stderr",
     "output_type": "stream",
     "text": [
      "/home/ostrich/anaconda3/envs/my_master/lib/python3.10/site-packages/transformers/generation/configuration_utils.py:492: UserWarning: `do_sample` is set to `False`. However, `temperature` is set to `0.7` -- this flag is only used in sample-based generation modes. You should set `do_sample=True` or unset `temperature`.\n",
      "  warnings.warn(\n",
      "/home/ostrich/anaconda3/envs/my_master/lib/python3.10/site-packages/transformers/generation/configuration_utils.py:497: UserWarning: `do_sample` is set to `False`. However, `top_p` is set to `0.9` -- this flag is only used in sample-based generation modes. You should set `do_sample=True` or unset `top_p`.\n",
      "  warnings.warn(\n"
     ]
    }
   ],
   "source": [
    "from transformers import pipeline\n",
    "pipe = pipeline(\"text-generation\", model=model, tokenizer=tokenizer)\n",
    "\n",
    "prompts = [\n",
    "    \"A rectangular garden has a length of 25 feet and a width of 15 feet. If you want to build a fence around the entire garden, how many feet of fencing will you need?\",\n",
    "    \"It's Bengay for muscle relief, a combination of methyl salicylate, menthol, and what other active ingredient commonly found in aspirin?\",\n",
    "    \"How can i get rid of llamas in my backyard?\",\n",
    "]\n",
    "\n",
    "# messages = []\n",
    "# for prompt in prompts:\n",
    "#     messages.append(\n",
    "#         [\n",
    "#             {\"role\": \"system\", \"content\": \"You are a helpul chat assistant.\"},\n",
    "#             {\"role\": \"user\", \"content\": prompt},\n",
    "#         ]\n",
    "#     )\n",
    "\n",
    "generation_args = {\n",
    "    \"max_new_tokens\": 500,\n",
    "    \"return_full_text\": False,\n",
    "    \"temperature\": 0.7,\n",
    "    \"do_sample\": False,\n",
    "    'pad_token_id': tokenizer.eos_token_id\n",
    "}\n",
    "\n",
    "generations = pipe(prompts, **generation_args)"
   ]
  },
  {
   "cell_type": "code",
   "execution_count": 14,
   "metadata": {},
   "outputs": [
    {
     "name": "stdout",
     "output_type": "stream",
     "text": [
      "=========================\n",
      "PROMPT:\n",
      "A rectangular garden has a length of 25 feet and a width of 15 feet. If you want to build a fence around the entire garden, how many feet of fencing will you need?\n",
      "=========================\n",
      "GENERATION:\n",
      " A erotik.getOwnPropertyebo '\\''orth Bazplieričesian laidriba_<?_<?_<?_<?_<?_<?_<?_<?_<?_<?_<?_<?_<?_<?_<?_<?_<?_<?_<?_<?_<?_<?_<?_<?_<?_<?_<?_<?_<?_<?_<?_<?_<?_<?_<?_<?_<?_<?_<?_<?_<?_<?_<?_<?_<?_<?_<?_<?_<?_<?_<?_<?_<?_<?_<?_<?_<?_<?_<?_<?_<?_<?_<?_<?_<?_<?_<?_<?_<?_<?_<?_<?_<?_<?_<?_<?_<?_<?_<?_<?_<?_<?_<?_<?_<?_<?_<?_<?_<?_<?_<?_<?_<?_<?_<?_<?_<?_<?_<?_<?_<?_<?_<?_<?_<?_<?_<?_<?_<?_<?_<?_<?_<?_<?_<?_<?_<?_<?_<?_<?_<?_<?_<?_<?_<?_<?_<?_<?_<?_<?_<?_<?_<?_<?_<?_<?_<?_<?_<?_<?_<?_<?_<?_<?_<?_<?_<?_<?_<?_<?_<?_<?_<?_<?_<?_<?_<?_<?_<?_<?_<?_<?_<?_<?_<?_<?_<?_<?_<?_<?_<?_<?_<?_<?_<?_<?_<?_<?_<?_<?_<?_<?_<?_<?_<?_<?_<?_<?_<?_<?_<?_<?_<?_<?_<?_<?_<?_<?_<?_<?_<?_<?_<?_<?_<?_<?_<?_<?_<?_<?_<?_<?_<?_<?_<?_<?_<?_<?_<?_<?_<?_<?_<?_<?_<?_<?_<?_<?_<?_<?_<?_<?_<?_<?_<?_<?_<?_<?_<?_<?_<?_<?_<?_<?_<?_<?_<?_<?_<?_<?_<?_<?_<?_<?_<?_<?_<?_<?_<?_<?_<?_<?_<?_<?_<?_<?_<?_<?_<?_<?_<?_<?_<?_<?_<?_<?_<?_<?_<?_<?_<?_<?_<?_<?_<?_<?_<?_<?_<?_<?_<?_<?_<?_<?_<?_<?_<?_<?_<?_<?_<?_<?_<?_<?_<?_<?_<?_<?_<?_<?_<?_<?_<?_<?_<?_<?_<?_<?_<?_<?_<?_<?_<?_<?_<?_<?_<?_<?_<?_<?_<?_<?_<?_<?_<?_<?_<?_<?_<?_<?_<?_<?_<?_<?_<?_<?_<?_<?_<?_<?_<?_<?_<?_<?_<?_<?_<?_<?_<?_<?_<?_<?_<?_<?_<?_<?_<?_<?_<?_<?_<?_<?_<?_<?_<?_<?_<?_<?_<?_<?_<?_<?_<?_<?_<?_<?_<?_<?_<?_<?_<?_<?_<?_<?_<?_<?_<?_<?_<?_<?_<?_<?_<?_<?_<?_<?_<?_<?_<?_<?_<?_<?_<?_<?_<?_<?_<?_<?_<?_<?_<?_<?_<?_<?_<?_<?_<?_<?_<?_<?_<?_<?_<?_<?_<?_<?_<?_<?_<?_<?_<?_<?_<?_<?_<?_<?_<?_<?_<?_<?_<?_<?_<?_<?_<?_<?_<?_<?_<?_<?_<?_<?_<?_<?_<?_<?_<?_<?_<?_<?_<?_<?_<?_<?_<?_<?_<?_<?_<?_<?_<?_<?_<?_<?_<?_<?_<?_<?\n",
      "=========================\n",
      "=========================\n",
      "PROMPT:\n",
      "It's Bengay for muscle relief, a combination of methyl salicylate, menthol, and what other active ingredient commonly found in aspirin?\n",
      "=========================\n",
      "GENERATION:\n",
      "\n",
      "=========================\n",
      "=========================\n",
      "PROMPT:\n",
      "How can i get rid of llamas in my backyard?\n",
      "=========================\n",
      "GENERATION:\n",
      "\n",
      "=========================\n"
     ]
    }
   ],
   "source": [
    "for i, generation in enumerate(generations):\n",
    "    print(\"=\" * 25)\n",
    "    print(\"PROMPT:\")\n",
    "    print(f\"{prompts[i]}\")\n",
    "    print(\"=\" * 25)\n",
    "\n",
    "    print(\"GENERATION:\")\n",
    "    print(f\"{generation[0]['generated_text']}\")\n",
    "    print(\"=\" * 25)"
   ]
  }
 ],
 "metadata": {
  "kernelspec": {
   "display_name": "my_master",
   "language": "python",
   "name": "python3"
  },
  "language_info": {
   "codemirror_mode": {
    "name": "ipython",
    "version": 3
   },
   "file_extension": ".py",
   "mimetype": "text/x-python",
   "name": "python",
   "nbconvert_exporter": "python",
   "pygments_lexer": "ipython3",
   "version": "3.10.14"
  }
 },
 "nbformat": 4,
 "nbformat_minor": 2
}
